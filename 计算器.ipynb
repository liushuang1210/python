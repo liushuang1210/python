{
 "cells": [
  {
   "cell_type": "code",
   "execution_count": 1,
   "id": "564d7d9d-4280-4dce-840a-f6cd61808d87",
   "metadata": {},
   "outputs": [
    {
     "name": "stdout",
     "output_type": "stream",
     "text": [
      "hello world\n"
     ]
    }
   ],
   "source": [
    "print (\"hello world\")"
   ]
  },
  {
   "cell_type": "code",
   "execution_count": 7,
   "id": "7a483bf6-f9f5-4a6a-9342-2f27479e170e",
   "metadata": {},
   "outputs": [
    {
     "name": "stdin",
     "output_type": "stream",
     "text": [
      "请输入你需要进行的运算(1.乘法,2.除法,3.加法,4.减法): 3\n"
     ]
    }
   ],
   "source": [
    "x=input(\"请输入你需要进行的运算(1.乘法,2.除法,3.加法,4.减法):\")"
   ]
  },
  {
   "cell_type": "code",
   "execution_count": 4,
   "id": "75daf45d-bb5e-44a5-8ab9-e94f4ee06fde",
   "metadata": {},
   "outputs": [
    {
     "name": "stdin",
     "output_type": "stream",
     "text": [
      "请输入你需要计算的第1个数: 3\n"
     ]
    }
   ],
   "source": [
    "a=int(input(\"请输入你需要计算的第1个数:\"))"
   ]
  },
  {
   "cell_type": "code",
   "execution_count": 5,
   "id": "e9b783d2-051f-41cb-96ca-284898d56766",
   "metadata": {
    "tags": []
   },
   "outputs": [
    {
     "name": "stdin",
     "output_type": "stream",
     "text": [
      "请输入你需要计算的第2个数: 2\n"
     ]
    }
   ],
   "source": [
    "b=int(input(\"请输入你需要计算的第2个数:\"))"
   ]
  },
  {
   "cell_type": "code",
   "execution_count": 9,
   "id": "3c5cc931-9cd3-469c-a6b0-619ca64e8315",
   "metadata": {},
   "outputs": [
    {
     "name": "stdout",
     "output_type": "stream",
     "text": [
      "1\n"
     ]
    }
   ],
   "source": [
    "if x==\"1\":\n",
    "    print(a*b);\n",
    "else:\n",
    "    if x=='2':\n",
    "        print(a/b);\n",
    "    else:\n",
    "        if x==3:\n",
    "            print(a+b);\n",
    "        else:\n",
    "            print(a-b);"
   ]
  },
  {
   "cell_type": "code",
   "execution_count": null,
   "id": "e2335b17-7a52-4b5f-8b08-c0f0ac5b001a",
   "metadata": {},
   "outputs": [],
   "source": []
  },
  {
   "cell_type": "code",
   "execution_count": null,
   "id": "3d001831-58a0-48e8-9c53-10a5e15938ca",
   "metadata": {},
   "outputs": [],
   "source": []
  },
  {
   "cell_type": "code",
   "execution_count": null,
   "id": "f8f2bf61-39cb-4f27-a889-a66625b03e04",
   "metadata": {},
   "outputs": [],
   "source": []
  }
 ],
 "metadata": {
  "kernelspec": {
   "display_name": "Python 3",
   "language": "python",
   "name": "python3"
  },
  "language_info": {
   "codemirror_mode": {
    "name": "ipython",
    "version": 3
   },
   "file_extension": ".py",
   "mimetype": "text/x-python",
   "name": "python",
   "nbconvert_exporter": "python",
   "pygments_lexer": "ipython3",
   "version": "3.8.8"
  }
 },
 "nbformat": 4,
 "nbformat_minor": 5
}
